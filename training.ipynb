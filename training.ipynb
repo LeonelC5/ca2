{
 "cells": [
  {
   "cell_type": "code",
   "execution_count": 61,
   "id": "4e306d3f",
   "metadata": {},
   "outputs": [],
   "source": [
    "import sklearn\n",
    "import joblib\n",
    "\n",
    "import pandas as pd \n",
    "import numpy as np \n",
    "\n",
    "from sklearn.model_selection import train_test_split\n",
    "from sklearn.metrics import mean_squared_error, r2_score, mean_absolute_error\n",
    "from sklearn.linear_model import LinearRegression\n",
    "\n",
    "from sklearn.preprocessing import PolynomialFeatures\n",
    "from sklearn.pipeline import Pipeline\n",
    "from sklearn.tree import DecisionTreeRegressor\n",
    "from sklearn.ensemble import RandomForestRegressor"
   ]
  },
  {
   "cell_type": "code",
   "execution_count": 62,
   "id": "76205da6",
   "metadata": {},
   "outputs": [
    {
     "name": "stdout",
     "output_type": "stream",
     "text": [
      "Train size: (1913, 13) (1913,)\n",
      "Test size: (479, 13) (479,)\n"
     ]
    }
   ],
   "source": [
    "df = pd.read_csv('data.csv')\n",
    "y = df['GPA']\n",
    "x = df.drop(columns=['StudentID', 'GradeClass', 'GPA', 'Gender', 'Ethnicity'])\n",
    "x = pd.get_dummies(x, columns=['ParentalEducation'], drop_first=True)\n",
    "\n",
    "\n",
    "x_train, x_test, y_train, y_test = train_test_split(x, y, test_size=0.2, random_state=42)\n",
    "print(\"Train size:\", x_train.shape, y_train.shape)\n",
    "print(\"Test size:\", x_test.shape, y_test.shape)"
   ]
  },
  {
   "cell_type": "code",
   "execution_count": 63,
   "id": "78645a63",
   "metadata": {},
   "outputs": [],
   "source": [
    "# 1. Lineal\n",
    "linear = LinearRegression()\n",
    "linear.fit(x_train, y_train)\n",
    "y_pred_lin = linear.predict(x_test)\n",
    "\n",
    "# 2. Polinómico grado 2\n",
    "poly2 = Pipeline([\n",
    "    (\"poly\", PolynomialFeatures(degree=2, include_bias=False)),\n",
    "    (\"lin\", LinearRegression())\n",
    "])\n",
    "poly2.fit(x_train, y_train)\n",
    "y_pred_poly2 = poly2.predict(x_test)\n",
    "\n",
    "# 3. Árbol de decisión\n",
    "tree = DecisionTreeRegressor(random_state=42)\n",
    "tree.fit(x_train, y_train)\n",
    "y_pred_tree = tree.predict(x_test)\n",
    "\n",
    "# 4. Random Forest\n",
    "forest = RandomForestRegressor(n_estimators=200, random_state=42)\n",
    "forest.fit(x_train, y_train)\n",
    "y_pred_forest = forest.predict(x_test)"
   ]
  },
  {
   "cell_type": "code",
   "execution_count": 64,
   "id": "eae07682",
   "metadata": {},
   "outputs": [
    {
     "name": "stdout",
     "output_type": "stream",
     "text": [
      "Lineal              : RMSE=0.196, R²=0.953\n",
      "Polinómica (deg=2)  : RMSE=0.201, R²=0.951\n",
      "Tree                : RMSE=0.332, R²=0.866\n",
      "RandomForest        : RMSE=0.239, R²=0.931\n"
     ]
    }
   ],
   "source": [
    "model_names = [\"Lineal\", \"Polinómica (deg=2)\", \"Tree\", \"RandomForest\"]\n",
    "predictions = [y_pred_lin, y_pred_poly2, y_pred_tree, y_pred_forest]\n",
    "\n",
    "results = []\n",
    "\n",
    "for name, y_pred in zip(model_names, predictions):\n",
    "    rmse = np.sqrt(mean_squared_error(y_test, y_pred))\n",
    "    r2 = r2_score(y_test, y_pred)\n",
    "    results.append((name, rmse, r2))\n",
    "    print(f\"{name:20}: RMSE={rmse:.3f}, R²={r2:.3f}\")"
   ]
  },
  {
   "cell_type": "code",
   "execution_count": 65,
   "id": "77c3bdea",
   "metadata": {},
   "outputs": [
    {
     "name": "stdout",
     "output_type": "stream",
     "text": [
      "\n",
      "El modelo más óptimo según R² es: Lineal con R²=0.953 y RMSE=0.196\n"
     ]
    }
   ],
   "source": [
    "best_model = max(results, key=lambda x: x[2]) \n",
    "print(f\"\\nEl modelo más óptimo según R² es: {best_model[0]} con R²={best_model[2]:.3f} y RMSE={best_model[1]:.3f}\")"
   ]
  },
  {
   "cell_type": "code",
   "execution_count": 66,
   "id": "356d85e7",
   "metadata": {},
   "outputs": [
    {
     "name": "stdout",
     "output_type": "stream",
     "text": [
      "\n",
      "=== Importancia de variables ===\n",
      "Age: -0.0057\n",
      "StudyTimeWeekly: 0.0291\n",
      "Absences: -0.0995\n",
      "Tutoring: 0.2576\n",
      "ParentalSupport: 0.1479\n",
      "Extracurricular: 0.1900\n",
      "Sports: 0.1842\n",
      "Music: 0.1513\n",
      "Volunteering: -0.0049\n",
      "ParentalEducation_1: -0.0019\n",
      "ParentalEducation_2: 0.0082\n",
      "ParentalEducation_3: -0.0120\n",
      "ParentalEducation_4: 0.0149\n"
     ]
    }
   ],
   "source": [
    "print(\"\\n=== Importancia de variables ===\")\n",
    "if best_model[0] == \"Lineal\":\n",
    "    for var, peso in zip(x_train.columns, linear.coef_):\n",
    "        print(f\"{var}: {peso:.4f}\")\n",
    "elif best_model[0] == \"Polinómica (deg=2)\":\n",
    "    # Obtener nombres de features polinómicas\n",
    "    feature_names = poly2.named_steps['poly'].get_feature_names_out(x_train.columns)\n",
    "    for var, peso in zip(feature_names, poly2.named_steps['lin'].coef_):\n",
    "        print(f\"{var}: {peso:.4f}\")\n",
    "elif best_model[0] in [\"Tree\", \"RandomForest\"]:\n",
    "    model_to_use = tree if best_model[0]==\"Tree\" else forest\n",
    "    for var, imp in zip(x_train.columns, model_to_use.feature_importances_):\n",
    "        print(f\"{var}: {imp:.4f}\")"
   ]
  },
  {
   "cell_type": "code",
   "execution_count": 67,
   "id": "8a891354",
   "metadata": {},
   "outputs": [
    {
     "name": "stdout",
     "output_type": "stream",
     "text": [
      "\n",
      "Modelo óptimo guardado en 'best_model.pkl'\n"
     ]
    }
   ],
   "source": [
    "if best_model[0] == \"Lineal\":\n",
    "    joblib.dump(linear, 'best_model.pkl')\n",
    "elif best_model[0] == \"Polinómica (deg=2)\":\n",
    "    joblib.dump(poly2, 'best_model.pkl')\n",
    "elif best_model[0] == \"Tree\":\n",
    "    joblib.dump(tree, 'best_model.pkl')\n",
    "else:\n",
    "    joblib.dump(forest, 'best_model.pkl')\n",
    "\n",
    "print(\"\\nModelo óptimo guardado en 'best_model.pkl'\")"
   ]
  }
 ],
 "metadata": {
  "kernelspec": {
   "display_name": "Python 3",
   "language": "python",
   "name": "python3"
  },
  "language_info": {
   "codemirror_mode": {
    "name": "ipython",
    "version": 3
   },
   "file_extension": ".py",
   "mimetype": "text/x-python",
   "name": "python",
   "nbconvert_exporter": "python",
   "pygments_lexer": "ipython3",
   "version": "3.12.5"
  }
 },
 "nbformat": 4,
 "nbformat_minor": 5
}
